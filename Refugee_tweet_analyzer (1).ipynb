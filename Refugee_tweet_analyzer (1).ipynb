{
  "nbformat": 4,
  "nbformat_minor": 0,
  "metadata": {
    "colab": {
      "provenance": [],
      "collapsed_sections": []
    },
    "kernelspec": {
      "display_name": "Python 3",
      "name": "python3"
    }
  },
  "cells": [
    {
      "cell_type": "markdown",
      "metadata": {
        "id": "ApwMhgQgwtZm"
      },
      "source": [
        "# Identifying Anti-Refugee Tweets"
      ]
    },
    {
      "cell_type": "markdown",
      "metadata": {
        "id": "VhTCuuRHe71v"
      },
      "source": [
        "In this notebook we'll be:\n",
        "*   Exploring the Anti-Refugee Tweets Dataset\n",
        "*   Developing Rule-Based Classifiers for Tweet Sentiment Detection\n",
        "\n"
      ]
    },
    {
      "cell_type": "markdown",
      "metadata": {
        "id": "IPz-x3shxgEA"
      },
      "source": [
        "## Background\n"
      ]
    },
    {
      "cell_type": "markdown",
      "metadata": {
        "id": "QAiQgufXVlC5"
      },
      "source": [
        "**Sentiment Analysis**<br>\n",
        "It is the process of using the computer to identify and categorize opinions expressed in a piece of text in order to determine whether the writer's attitude towards the given topic is positive or negative (or sometimes even neutral). It can also reveal their emotional state, and the intended effect of their words."
      ]
    },
    {
      "cell_type": "markdown",
      "metadata": {
        "id": "W6-tuOw1Vmsd"
      },
      "source": [
        "**Why conduct sentiment analysis ?**<br>\n",
        "The answer depends on where the tool is applied! In business, it can be used to predict the sentiment of the consumers in a market, thereby aiding the growth of the company. In politics, the sentiments of the voters can be used to determine the most appropriate strategy. By listening to and analysing comments on Facebook and Twitter, local government departments can gauge public sentiment and use the results to improve services they provide to the public. Universities can use sentiment analysis to analyze student feedback and improve their curriculum. These are a few of the many uses of sentiment analysis. "
      ]
    },
    {
      "cell_type": "markdown",
      "metadata": {
        "id": "HFLYr9neVoVO"
      },
      "source": [
        "**What is Anti-Refugee Tweet Classification**<br>\n",
        "Anti-refugee tweet classification, the topic that we would be covering in the coming few days, is classifying a given tweet as pro-refugee or anti-refugee. An example to illustrate the definition:\n",
        "\n",
        "> *anti-refugee tweet*: 'muslim refugee charged with beating a woman'<br>\n",
        "> *pro-refugee tweet*: 'refugee hotspots in italy and greece not yet adequate'\n",
        "\n",
        "As you can guess from the above example, an anti-refugee tweet would have negative words, and would convey negative sentiments towards the refugees, sentiments that would potray the refugee in a negative light, while the converse is true for pro-refugee tweets. **Understanding anti-refugee sentiment is the first step in addressing it.** This project will allow us to use AI models to do so. "
      ]
    },
    {
      "cell_type": "markdown",
      "metadata": {
        "id": "9o2HzoGmw2rw"
      },
      "source": [
        "# Milestone 1: Exploring our data"
      ]
    },
    {
      "cell_type": "code",
      "metadata": {
        "colab": {
          "base_uri": "https://localhost:8080/"
        },
        "id": "dyCn-CT4aVPi",
        "outputId": "b83090b4-733b-43ba-89ec-d635a47e6083"
      },
      "source": [
        "#@title Run this to import all the necessary packages. This will take a few minutes! { display-mode: \"form\" }\n",
        "\n",
        "import tweepy\n",
        "from sklearn.metrics import accuracy_score\n",
        "from datetime import datetime, timedelta\n",
        "import re\n",
        "import numpy as np\n",
        "import random\n",
        "import json\n",
        "import math\n",
        "from collections import Counter\n",
        "import matplotlib.pyplot as plt\n",
        "import os\n",
        "import sys\n",
        "import pandas\n",
        "\n",
        "import nltk\n",
        "nltk.download('punkt', quiet=True)\n",
        "from nltk.tokenize import TweetTokenizer\n",
        "from nltk.stem import PorterStemmer\n",
        "from nltk.corpus import stopwords\n",
        "nltk.download('stopwords' ,quiet=True)\n",
        "from sklearn.metrics import accuracy_score\n",
        "\n",
        "import warnings\n",
        "warnings.filterwarnings('ignore')\n",
        "\n",
        "# from google.colab import drive\n",
        "# drive.mount('/content/drive/')\n",
        "\n",
        "import gdown\n",
        "import zipfile\n",
        "import shutil\n",
        "\n",
        "# Download dataset, only try gdown if !wget doesn't work\n",
        "# gdown.download('https://drive.google.com/uc?id=1ifYLZ-19ZyjjRUICe4PDRmZFAkyL73d0','./source_data.zip',True)\n",
        "!wget -O source_data.zip 'https://storage.googleapis.com/inspirit-ai-data-bucket-1/Data/AI%20Scholars/Sessions%206%20-%2010%20(Projects)/Project%20-%20Anti-Refugee%20Tweets/Anti-Refugee%20Sentiment%20Analysis-20190614T171546Z-001%20(1).zip'\n",
        "\n",
        "# Download data.json\n",
        "!wget 'https://storage.googleapis.com/inspirit-ai-data-bucket-1/Data/AI%20Scholars/Sessions%206%20-%2010%20(Projects)/Project%20-%20Anti-Refugee%20Tweets/data.json'\n",
        "my_zip = zipfile.ZipFile('./source_data.zip', mode = 'r')\n",
        "my_zip.extractall()\n",
        "\n",
        "# Download library for this notebook\n",
        "!wget 'https://storage.googleapis.com/inspirit-ai-data-bucket-1/Data/AI%20Scholars/Sessions%206%20-%2010%20(Projects)/Project%20-%20Anti-Refugee%20Tweets/lib.py'\n",
        "import lib\n",
        "from lib import Tweet\n",
        "from lib import Tweet_counts\n",
        "\n",
        "from lib import *"
      ],
      "execution_count": null,
      "outputs": [
        {
          "output_type": "stream",
          "name": "stdout",
          "text": [
            "--2022-04-10 15:14:59--  https://storage.googleapis.com/inspirit-ai-data-bucket-1/Data/AI%20Scholars/Sessions%206%20-%2010%20(Projects)/Project%20-%20Anti-Refugee%20Tweets/Anti-Refugee%20Sentiment%20Analysis-20190614T171546Z-001%20(1).zip\n",
            "Resolving storage.googleapis.com (storage.googleapis.com)... 142.250.141.128, 2607:f8b0:4023:c0b::80\n",
            "Connecting to storage.googleapis.com (storage.googleapis.com)|142.250.141.128|:443... connected.\n",
            "HTTP request sent, awaiting response... 200 OK\n",
            "Length: 409259394 (390M) [application/zip]\n",
            "Saving to: ‘source_data.zip’\n",
            "\n",
            "source_data.zip     100%[===================>] 390.30M   213MB/s    in 1.8s    \n",
            "\n",
            "2022-04-10 15:15:01 (213 MB/s) - ‘source_data.zip’ saved [409259394/409259394]\n",
            "\n",
            "--2022-04-10 15:15:01--  https://storage.googleapis.com/inspirit-ai-data-bucket-1/Data/AI%20Scholars/Sessions%206%20-%2010%20(Projects)/Project%20-%20Anti-Refugee%20Tweets/data.json\n",
            "Resolving storage.googleapis.com (storage.googleapis.com)... 142.250.141.128, 2607:f8b0:4023:c0b::80\n",
            "Connecting to storage.googleapis.com (storage.googleapis.com)|142.250.141.128|:443... connected.\n",
            "HTTP request sent, awaiting response... 200 OK\n",
            "Length: 112475 (110K) [application/json]\n",
            "Saving to: ‘data.json.1’\n",
            "\n",
            "data.json.1         100%[===================>] 109.84K  --.-KB/s    in 0.001s  \n",
            "\n",
            "2022-04-10 15:15:01 (105 MB/s) - ‘data.json.1’ saved [112475/112475]\n",
            "\n",
            "--2022-04-10 15:15:12--  https://storage.googleapis.com/inspirit-ai-data-bucket-1/Data/AI%20Scholars/Sessions%206%20-%2010%20(Projects)/Project%20-%20Anti-Refugee%20Tweets/lib.py\n",
            "Resolving storage.googleapis.com (storage.googleapis.com)... 142.250.141.128, 2607:f8b0:4023:c0b::80\n",
            "Connecting to storage.googleapis.com (storage.googleapis.com)|142.250.141.128|:443... connected.\n",
            "HTTP request sent, awaiting response... 200 OK\n",
            "Length: 23978 (23K) [application/octet-stream]\n",
            "Saving to: ‘lib.py.1’\n",
            "\n",
            "lib.py.1            100%[===================>]  23.42K  --.-KB/s    in 0s      \n",
            "\n",
            "2022-04-10 15:15:12 (81.0 MB/s) - ‘lib.py.1’ saved [23978/23978]\n",
            "\n"
          ]
        }
      ]
    },
    {
      "cell_type": "markdown",
      "metadata": {
        "id": "HeuFtjtEX_Xj"
      },
      "source": [
        "### Understanding the structure of a tweet"
      ]
    },
    {
      "cell_type": "markdown",
      "metadata": {
        "id": "ZT1SRaYJYEkz"
      },
      "source": [
        "Tweets are composed of:\n",
        "* Hashtags: Keywords that start with the '#' symbol\n",
        "* Mentions: Referencing another user/person with '@'\n",
        "* Everything else: Anything that isn't a hashtag or mention!\n",
        "\n",
        "We've made a convenient interface for processing our tweets, which we call the `Tweet` class. Let's try out the `Tweet` class!"
      ]
    },
    {
      "cell_type": "code",
      "metadata": {
        "id": "SIbrGhTBYgSz"
      },
      "source": [
        "my_tweet = Tweet('these are #tags and this is a @mention. hey #wait there\\'s another @one here too','true') \n",
        "# takes in text and true or false - don't worry about true or false right now!"
      ],
      "execution_count": null,
      "outputs": []
    },
    {
      "cell_type": "code",
      "metadata": {
        "colab": {
          "base_uri": "https://localhost:8080/"
        },
        "id": "kp7lOMlEYrYc",
        "outputId": "232bb8b3-e117-440c-b407-18ddc8ccbb57"
      },
      "source": [
        "# check out the hashtags!\n",
        "my_tweet.hashtags"
      ],
      "execution_count": null,
      "outputs": [
        {
          "output_type": "execute_result",
          "data": {
            "text/plain": [
              "['#tags', '#wait']"
            ]
          },
          "metadata": {},
          "execution_count": 4
        }
      ]
    },
    {
      "cell_type": "code",
      "metadata": {
        "colab": {
          "base_uri": "https://localhost:8080/"
        },
        "id": "TgqZj80BYyht",
        "outputId": "892c514d-154d-49a9-c8dd-6cf0b7411a6e"
      },
      "source": [
        "# check out the mentions!\n",
        "my_tweet.mentions"
      ],
      "execution_count": null,
      "outputs": [
        {
          "output_type": "execute_result",
          "data": {
            "text/plain": [
              "['@mention', '@one']"
            ]
          },
          "metadata": {},
          "execution_count": 5
        }
      ]
    },
    {
      "cell_type": "code",
      "metadata": {
        "colab": {
          "base_uri": "https://localhost:8080/"
        },
        "id": "UM_dl10OY2P1",
        "outputId": "47302daf-e118-4b2f-f8ac-78a339bf6709"
      },
      "source": [
        "# check out the tweet text!\n",
        "my_tweet.tokenList"
      ],
      "execution_count": null,
      "outputs": [
        {
          "output_type": "execute_result",
          "data": {
            "text/plain": [
              "['these',\n",
              " 'are',\n",
              " 'tags',\n",
              " 'and',\n",
              " 'this',\n",
              " 'is',\n",
              " 'a',\n",
              " 'hey',\n",
              " 'wait',\n",
              " \"there's\",\n",
              " 'another',\n",
              " 'here',\n",
              " 'too']"
            ]
          },
          "metadata": {},
          "execution_count": 6
        }
      ]
    },
    {
      "cell_type": "markdown",
      "metadata": {
        "id": "NYYqX5Cmw9zn"
      },
      "source": [
        "## Activity 1b. Examining our dataset"
      ]
    },
    {
      "cell_type": "markdown",
      "metadata": {
        "id": "D08SQCN0ETp4"
      },
      "source": [
        "### Exercise (coding)\n"
      ]
    },
    {
      "cell_type": "markdown",
      "metadata": {
        "id": "ce7Rr9DKGXb4"
      },
      "source": [
        "Let's a take at our prebuilt database of tweets extracted from twitter! It is in a folder called Data and is stored in a file called data.json."
      ]
    },
    {
      "cell_type": "code",
      "metadata": {
        "id": "Xvg9h7gnEi7S"
      },
      "source": [
        "file = open('./data.json','r')\n",
        "data = json.load(file)"
      ],
      "execution_count": null,
      "outputs": []
    },
    {
      "cell_type": "markdown",
      "metadata": {
        "id": "fEi1B4l5EoHT"
      },
      "source": [
        "Our `data` is a list of tweets that are classified as either TRUE (anti-refugee) or FALSE (pro-refugee). \n",
        "\n",
        "How many tweets do we have? "
      ]
    },
    {
      "cell_type": "code",
      "metadata": {
        "colab": {
          "base_uri": "https://localhost:8080/"
        },
        "id": "0tLr5VHTErLr",
        "outputId": "301ea94c-42ea-4905-826c-2897a254894e"
      },
      "source": [
        "len(data)"
      ],
      "execution_count": null,
      "outputs": [
        {
          "output_type": "execute_result",
          "data": {
            "text/plain": [
              "689"
            ]
          },
          "metadata": {},
          "execution_count": 8
        }
      ]
    },
    {
      "cell_type": "markdown",
      "metadata": {
        "id": "LH4v0oJ7EQ9e"
      },
      "source": [
        "What does each data point look like? "
      ]
    },
    {
      "cell_type": "code",
      "metadata": {
        "colab": {
          "base_uri": "https://localhost:8080/"
        },
        "id": "3KVsgAoHEJWq",
        "outputId": "d28b761a-e121-4f15-854a-691e7d88890d"
      },
      "source": [
        "data[0]"
      ],
      "execution_count": null,
      "outputs": [
        {
          "output_type": "execute_result",
          "data": {
            "text/plain": [
              "{'classification': 'TRUE',\n",
              " 'tweet': 'rt @_makada_ muslim refugee charged with beating ga woman with american flag skips court'}"
            ]
          },
          "metadata": {},
          "execution_count": 9
        }
      ]
    },
    {
      "cell_type": "markdown",
      "metadata": {
        "id": "8BmfgwSIE21C"
      },
      "source": [
        "Each data point is a dictionary (in particular, it is a json object) with two keys:\n",
        "\n",
        "* classification: which is the category of the tweet \n",
        "* tweet: which is the tweet text\n",
        "\n",
        "We can access the value in each dictionary element by using the individual key associated with each."
      ]
    },
    {
      "cell_type": "code",
      "metadata": {
        "colab": {
          "base_uri": "https://localhost:8080/",
          "height": 36
        },
        "id": "S9o_YjOZOQnA",
        "outputId": "891ebdf7-e44f-4837-de7f-efd8948671a3"
      },
      "source": [
        "# use the 'classification' key to see the sentiment of a tweet\n",
        "data[0]['classification']"
      ],
      "execution_count": null,
      "outputs": [
        {
          "output_type": "execute_result",
          "data": {
            "text/plain": [
              "'TRUE'"
            ],
            "application/vnd.google.colaboratory.intrinsic+json": {
              "type": "string"
            }
          },
          "metadata": {},
          "execution_count": 10
        }
      ]
    },
    {
      "cell_type": "markdown",
      "metadata": {
        "id": "FAQ3gxuxPcoG"
      },
      "source": [
        "Let's split our tweets into two lists `pro` and `anti`, which contain pro-refugee and anti-refugee tweets respectively."
      ]
    },
    {
      "cell_type": "code",
      "metadata": {
        "id": "a6mH1IWgPX0u"
      },
      "source": [
        "pro = []\n",
        "anti = []\n",
        "\n",
        "for tweet in data:\n",
        "  if tweet['classification'] != 'TRUE':\n",
        "    pro.append(tweet ['tweet'])\n",
        "  else : \n",
        "     anti.append(tweet ['tweet'])"
      ],
      "execution_count": null,
      "outputs": []
    },
    {
      "cell_type": "markdown",
      "metadata": {
        "id": "NZxWWYZQFS6H"
      },
      "source": [
        "How many tweets do we have of each class? "
      ]
    },
    {
      "cell_type": "code",
      "metadata": {
        "colab": {
          "base_uri": "https://localhost:8080/"
        },
        "id": "J-ZioTerAHUK",
        "outputId": "2f716489-b40b-471c-b568-9406ecd80a4d"
      },
      "source": [
        "# how many pro refugee tweets? \n",
        "len(pro)"
      ],
      "execution_count": null,
      "outputs": [
        {
          "output_type": "execute_result",
          "data": {
            "text/plain": [
              "350"
            ]
          },
          "metadata": {},
          "execution_count": 12
        }
      ]
    },
    {
      "cell_type": "code",
      "metadata": {
        "colab": {
          "base_uri": "https://localhost:8080/"
        },
        "id": "R5kvTIYAAQ8K",
        "outputId": "2a021cd4-8ece-4ef8-ca39-1dcf99ba0a5c"
      },
      "source": [
        "# how many anti refugee tweets?\n",
        "len(anti)"
      ],
      "execution_count": null,
      "outputs": [
        {
          "output_type": "execute_result",
          "data": {
            "text/plain": [
              "339"
            ]
          },
          "metadata": {},
          "execution_count": 13
        }
      ]
    },
    {
      "cell_type": "code",
      "metadata": {
        "colab": {
          "base_uri": "https://localhost:8080/",
          "height": 36
        },
        "id": "K9bGJsKngPDc",
        "outputId": "baf94118-02b0-4b02-f083-8a2e8f621267"
      },
      "source": [
        "pro[0]"
      ],
      "execution_count": null,
      "outputs": [
        {
          "output_type": "execute_result",
          "data": {
            "text/plain": [
              "'rt @rangersfanjoe @timpimley @foxnews @cristinacorbin they were .  starbucks has hired 10000 vets since 2014 .  well before the refugee progr'"
            ],
            "application/vnd.google.colaboratory.intrinsic+json": {
              "type": "string"
            }
          },
          "metadata": {},
          "execution_count": 14
        }
      ]
    },
    {
      "cell_type": "code",
      "metadata": {
        "colab": {
          "base_uri": "https://localhost:8080/",
          "height": 36
        },
        "id": "6HPrauWMrRFE",
        "outputId": "2ab78da9-a103-4ca9-d8ca-0b4d4108c2de"
      },
      "source": [
        "anti[0]"
      ],
      "execution_count": null,
      "outputs": [
        {
          "output_type": "execute_result",
          "data": {
            "text/plain": [
              "'rt @_makada_ muslim refugee charged with beating ga woman with american flag skips court'"
            ],
            "application/vnd.google.colaboratory.intrinsic+json": {
              "type": "string"
            }
          },
          "metadata": {},
          "execution_count": 15
        }
      ]
    },
    {
      "cell_type": "markdown",
      "metadata": {
        "id": "xiPdxAtRxDKX"
      },
      "source": [
        "# Milestone 2: Handmade classifiers"
      ]
    },
    {
      "cell_type": "markdown",
      "metadata": {
        "id": "Bv-3ukngRL7V"
      },
      "source": [
        "We'll actually split our data into lists of `Tweet` objects so we can access the hashtags and mentions easily. \n",
        "\n",
        "Let's now split our data into a full data set (`tweet_data`). \n",
        "\n",
        "\n",
        "\n"
      ]
    },
    {
      "cell_type": "code",
      "metadata": {
        "id": "yKHfczJCbZEA"
      },
      "source": [
        "#@title Formatting our data! {display-mode: 'form'}\n",
        "tweet_data   = [Tweet(t['tweet'], t['classification']) for t in data]\n",
        "pro_tweets     = [Tweet(t['tweet'], t['classification']) for t in data if t['classification'].lower()=='false']\n",
        "anti_tweets    = [Tweet(t['tweet'], t['classification']) for t in data if t['classification'].lower()=='true']\n"
      ],
      "execution_count": null,
      "outputs": []
    },
    {
      "cell_type": "code",
      "metadata": {
        "colab": {
          "base_uri": "https://localhost:8080/"
        },
        "id": "7GqZALPXQNRS",
        "outputId": "a9ca779b-cbe7-404c-8728-b0b6d2d19b4b"
      },
      "source": [
        "print(pro_tweets[0])\n",
        "print(pro_tweets[0].mentions)"
      ],
      "execution_count": null,
      "outputs": [
        {
          "output_type": "stream",
          "name": "stdout",
          "text": [
            "rt they were starbucks has hired 10000 vets since 2014 well before the refugee progr\n",
            "['@rangersfanjoe', '@timpimley', '@foxnews', '@cristinacorbin']\n"
          ]
        }
      ]
    },
    {
      "cell_type": "code",
      "metadata": {
        "colab": {
          "base_uri": "https://localhost:8080/"
        },
        "id": "BWywh1DehXyv",
        "outputId": "26a52011-5188-4327-d4d2-285fd0959c64"
      },
      "source": [
        "len(pro_tweets)"
      ],
      "execution_count": null,
      "outputs": [
        {
          "output_type": "execute_result",
          "data": {
            "text/plain": [
              "346"
            ]
          },
          "metadata": {},
          "execution_count": 18
        }
      ]
    },
    {
      "cell_type": "markdown",
      "metadata": {
        "id": "0QroVN-LwIbu"
      },
      "source": [
        "## Activity 2a. Looking at pro vs. anti tweets"
      ]
    },
    {
      "cell_type": "markdown",
      "metadata": {
        "id": "-e4gKLsoGuAN"
      },
      "source": [
        "### Exercise (Discussion)"
      ]
    },
    {
      "cell_type": "markdown",
      "metadata": {
        "id": "OtpmMf9qxE5J"
      },
      "source": [
        "We reformated our data into lists of 'tweets'. Let's now look at a few pro and anti refugee tweets, their original text, hashtags, and mentions. "
      ]
    },
    {
      "cell_type": "code",
      "metadata": {
        "colab": {
          "base_uri": "https://localhost:8080/"
        },
        "id": "9i4dnkIwwPea",
        "outputId": "afb51c41-58d2-42b8-e671-1a26ad965b3b"
      },
      "source": [
        "# display 5 pro refugee tweets!\n",
        "for i in range(10):\n",
        "  this_tweet = pro_tweets[i]\n",
        "  print('---Original tweet text---')\n",
        "  print(this_tweet.original_tweet_text)\n",
        "\n",
        "  print('---Hashtags---')\n",
        "  print(this_tweet.hashtags)\n",
        "\n",
        "  print('---Mentions---')\n",
        "  print(this_tweet.mentions)\n",
        "  \n",
        "  print('\\n')"
      ],
      "execution_count": null,
      "outputs": [
        {
          "output_type": "stream",
          "text": [
            "---Original tweet text---\n",
            "rt @rangersfanjoe @timpimley @foxnews @cristinacorbin they were .  starbucks has hired 10000 vets since 2014 .  well before the refugee progr\n",
            "---Hashtags---\n",
            "[]\n",
            "---Mentions---\n",
            "['@rangersfanjoe', '@timpimley', '@foxnews', '@cristinacorbin']\n",
            "\n",
            "\n",
            "---Original tweet text---\n",
            "rt @refugeeinfobus another unaccompanied refugee child arrested in #calais tonight at a evening food distribution\n",
            "---Hashtags---\n",
            "['#calais']\n",
            "---Mentions---\n",
            "['@refugeeinfobus']\n",
            "\n",
            "\n",
            "---Original tweet text---\n",
            "rt @slade now there\\'s an actual deadline .    please continue to shout raise awareness donate to lgbt refugee causes contact\n",
            "---Hashtags---\n",
            "[]\n",
            "---Mentions---\n",
            "['@slade']\n",
            "\n",
            "\n",
            "---Original tweet text---\n",
            "rt @gisellalomax helping refugees to thrive not just survive - a new approach on responding to refugee crises .\n",
            "---Hashtags---\n",
            "[]\n",
            "---Mentions---\n",
            "['@gisellalomax']\n",
            "\n",
            "\n",
            "---Original tweet text---\n",
            "rt @yemmadelrey repeat after me i need to watch this video every morning if my ungrateful ass ever think of skipping class &amp takin\n",
            "---Hashtags---\n",
            "[]\n",
            "---Mentions---\n",
            "['@yemmadelrey']\n",
            "\n",
            "\n",
            "---Original tweet text---\n",
            "the government has said they won\\'t take disabled refugee children and people actually think we should keep these evil fucks\n",
            "---Hashtags---\n",
            "[]\n",
            "---Mentions---\n",
            "[]\n",
            "\n",
            "\n",
            "---Original tweet text---\n",
            "focus on the receiving countries is imho to be in the list of a . betts&ampp . collier how to fix worlds refugee system\n",
            "---Hashtags---\n",
            "[]\n",
            "---Mentions---\n",
            "[]\n",
            "\n",
            "\n",
            "---Original tweet text---\n",
            "\\'walk a mile\\' in a #rohingya refugee\\'s shoes through new app\n",
            "---Hashtags---\n",
            "['#rohingya']\n",
            "---Mentions---\n",
            "[]\n",
            "\n",
            "\n",
            "---Original tweet text---\n",
            "rt @gaystarnews raped and abused this 23-year-old gay refugee from bangladesh on the run in nepal shares his story\n",
            "---Hashtags---\n",
            "[]\n",
            "---Mentions---\n",
            "['@gaystarnews']\n",
            "\n",
            "\n",
            "---Original tweet text---\n",
            "women\\'s refugee day - sat may 6th - 700 a . m . -430 p . m .   women of saving grace we have been given an amazing .  .  .\n",
            "---Hashtags---\n",
            "[]\n",
            "---Mentions---\n",
            "[]\n",
            "\n",
            "\n"
          ],
          "name": "stdout"
        }
      ]
    },
    {
      "cell_type": "code",
      "metadata": {
        "colab": {
          "base_uri": "https://localhost:8080/"
        },
        "id": "MFG9Th5-wREI",
        "outputId": "8a7fb511-4770-4822-d373-976391f33605"
      },
      "source": [
        "# display 5 anti-refugee tweets!\n",
        "for i in range(15):\n",
        "  this_tweet = anti_tweets[i]\n",
        "  print('---Original text---')\n",
        "  print(this_tweet.original_tweet_text)\n",
        "\n",
        "  print('---Hashtags---')\n",
        "  print(this_tweet.hashtags)\n",
        "\n",
        "  print('---Mentions---')\n",
        "  print(this_tweet.mentions)\n",
        "  \n",
        "  print('\\n')"
      ],
      "execution_count": null,
      "outputs": [
        {
          "output_type": "stream",
          "text": [
            "---Original text---\n",
            "rt @_makada_ muslim refugee charged with beating ga woman with american flag skips court\n",
            "---Hashtags---\n",
            "[]\n",
            "---Mentions---\n",
            "['@_makada_']\n",
            "\n",
            "\n",
            "---Original text---\n",
            "rt @_makada_ muslim refugee charged with beating ga woman with american flag skips court\n",
            "---Hashtags---\n",
            "[]\n",
            "---Mentions---\n",
            "['@_makada_']\n",
            "\n",
            "\n",
            "---Original text---\n",
            "rt @johnkstahlusa there\\'s something wrong with this refugee nonsense .  real men stay and fight for their values and country .  #tcot\n",
            "---Hashtags---\n",
            "['#tcot']\n",
            "---Mentions---\n",
            "['@johnkstahlusa']\n",
            "\n",
            "\n",
            "---Original text---\n",
            "trouble is it\\'s all dem-friendly spending  planned parenthood refugee resettlement continuing bribe to obamacar\n",
            "---Hashtags---\n",
            "[]\n",
            "---Mentions---\n",
            "[]\n",
            "\n",
            "\n",
            "---Original text---\n",
            "rt @amike4761 muslim refugees decline work say its against their religion to perform labor for americans .  deport them all ?\n",
            "---Hashtags---\n",
            "[]\n",
            "---Mentions---\n",
            "['@amike4761']\n",
            "\n",
            "\n",
            "---Original text---\n",
            "boycott and call out !  chobani yogurt founder pushing for more refugee labor  via @100percfedup #worldpenguinday\n",
            "---Hashtags---\n",
            "['#worldpenguinday']\n",
            "---Mentions---\n",
            "['@100percfedup']\n",
            "\n",
            "\n",
            "---Original text---\n",
            "islam the religion of bloodthirsty fanaticism .\n",
            "---Hashtags---\n",
            "[]\n",
            "---Mentions---\n",
            "[]\n",
            "\n",
            "\n",
            "---Original text---\n",
            "gee you can\\'t even carry an olympic torch without these muslim nutjobs trying to shut down your freedom .\n",
            "---Hashtags---\n",
            "[]\n",
            "---Mentions---\n",
            "[]\n",
            "\n",
            "\n",
            "---Original text---\n",
            "rt @pamelageller geller another official coverup of refugee crime ?  - breitbart\n",
            "---Hashtags---\n",
            "[]\n",
            "---Mentions---\n",
            "['@pamelageller']\n",
            "\n",
            "\n",
            "---Original text---\n",
            "rt @refugeewatcher chobani hires #refugees in id in same town as child refugee sex assault case .  chobani sues alex jones for linking .\n",
            "---Hashtags---\n",
            "['#refugees']\n",
            "---Mentions---\n",
            "['@refugeewatcher']\n",
            "\n",
            "\n",
            "---Original text---\n",
            "rt @newttrump retweet if you agree with newt  \\'hundreds of thousands of young men on the move is not a \\'refugee crisis . \\'\\'\n",
            "---Hashtags---\n",
            "[]\n",
            "---Mentions---\n",
            "['@newttrump']\n",
            "\n",
            "\n",
            "---Original text---\n",
            "#refugee madness continues #travelban\n",
            "---Hashtags---\n",
            "['#refugee', '#travelban']\n",
            "---Mentions---\n",
            "[]\n",
            "\n",
            "\n",
            "---Original text---\n",
            "sign the petition refugee pause\n",
            "---Hashtags---\n",
            "[]\n",
            "---Mentions---\n",
            "[]\n",
            "\n",
            "\n",
            "---Original text---\n",
            "#tuesdaymotivation boycott and call out !  chobani yogurt founder pushing for more refugee labor  via @100percfedup\n",
            "---Hashtags---\n",
            "['#tuesdaymotivation']\n",
            "---Mentions---\n",
            "['@100percfedup']\n",
            "\n",
            "\n",
            "---Original text---\n",
            "cover-up of florida refugee attack on 75-year-old woman\n",
            "---Hashtags---\n",
            "[]\n",
            "---Mentions---\n",
            "[]\n",
            "\n",
            "\n"
          ],
          "name": "stdout"
        }
      ]
    },
    {
      "cell_type": "markdown",
      "metadata": {
        "id": "9IXWRvyOHHKs"
      },
      "source": [
        "**In your group, discuss:** \n",
        "Does a tweet always have a hashtag or mention? \n"
      ]
    },
    {
      "cell_type": "markdown",
      "metadata": {
        "id": "p8WhbA7mMfV3"
      },
      "source": [
        "## Activity 2b. Handmade Rules for Classification"
      ]
    },
    {
      "cell_type": "markdown",
      "metadata": {
        "id": "69omzTn4Mh1p"
      },
      "source": [
        "Rule based classification uses certain rules, defined by the user, to classify tweets to the given categories. These rules are generally rigid and hence a rule based classifier cannot assign a probability to a tweet but can only assign a category to it.\n",
        "\n",
        "An example of a rule based classifier is:\n",
        "\n",
        "> If the word 'potato' or 'spinach' occurs in a tweet, then classify the tweet as vegetable, otherwise classify it as a fruit!\n",
        "\n",
        "Oftentimes, due to the rigidity and simplicity of the rule based classifier, the classification is faulty. Hence, do not expect a high accuracy from this classifier."
      ]
    },
    {
      "cell_type": "markdown",
      "metadata": {
        "id": "FLS_mIMPGwqK"
      },
      "source": [
        "Before we begin making our rule based classifier, let us visualize the data. Visualization helps us understand properties of the data which will, in turn, help us with the rule based classifier."
      ]
    },
    {
      "cell_type": "markdown",
      "metadata": {
        "id": "avj_MLpryNlT"
      },
      "source": [
        "### Exercise (Discussion): Figuring out the rules for our tweets"
      ]
    },
    {
      "cell_type": "markdown",
      "metadata": {
        "id": "uhCoFODIbpSB"
      },
      "source": [
        "\n",
        "\n",
        "Rule based classification, as the name suggests, is based on a given set of rules. In case of tweets, these rules can be a lot of things. Let us look at the data to figure out the things that we can use for rules."
      ]
    },
    {
      "cell_type": "markdown",
      "metadata": {
        "id": "wo7WM9tdcFyd"
      },
      "source": [
        "We know that we have the following unique things in tweets:\n",
        "\n",
        "1. Hashtags\n",
        "2. Mentions\n",
        "3. Other words"
      ]
    },
    {
      "cell_type": "markdown",
      "metadata": {
        "id": "UfdjDQIBgunT"
      },
      "source": [
        "**Question:** Do you think hashtags can be used to classify tweets? Give 5 examples of hashtags that can tell pro or anti refugee tweets apart."
      ]
    },
    {
      "cell_type": "code",
      "metadata": {
        "colab": {
          "base_uri": "https://localhost:8080/"
        },
        "id": "F3Tq_IYZb7nM",
        "outputId": "d0ac7174-2ebb-466c-f037-1f43f00bd42d"
      },
      "source": [
        "# display the first 10 pro hashtags\n",
        "\n",
        "pro_hashtags = []\n",
        "Hashtag_counter_pro = {}\n",
        "for tweet in pro_tweets:\n",
        "  if len(tweet.hashtags) > 0: \n",
        "    pro_hashtags.append(tweet.hashtags)\n",
        "  if len(pro_hashtags) == 10:\n",
        "    break\n",
        "pro_hashtags    \n",
        "\n",
        "pro_words_counter = {} #initialize dictionary to count occurrences of words\n",
        "\n",
        "for tweet in pro_tweets:\n",
        " tokens = [t for t in tweet.tokenList if t not in stopwords.words('english')]\n",
        " for token in tokens:\n",
        "   if token in pro_words_counter: #if the word already exists in the counter, add 1 to its count\n",
        "     pro_words_counter[token]=pro_words_counter[token]+1\n",
        "   else: #otherwise, add the token to the counter dictionary with a value of 1\n",
        "      pro_words_counter[token]=1\n",
        "    \n",
        "dict(sorted(pro_words_counter.items(), key=lambda item: item[1], reverse=True)) #sort the dictionary by value, descending\n",
        "print(dict(sorted(pro_words_counter.items(), key=lambda item: item[1], reverse=True)))"
      ],
      "execution_count": null,
      "outputs": [
        {
          "output_type": "stream",
          "name": "stdout",
          "text": [
            "{'refugee': 291, 'rt': 161, 'amp': 43, 'syrian': 36, 'refugees': 34, 'help': 33, 'children': 31, 'family': 24, 'story': 23, 'crisis': 23, 'people': 20, 'new': 19, 'support': 17, 'camp': 15, 'camps': 15, 'refugeeswelcome': 14, 'work': 14, 'us': 13, 'need': 12, 'report': 12, 'syria': 12, 'today': 12, 'women': 11, 'via': 11, 'read': 11, 'life': 11, 'child': 10, 'app': 10, 'education': 10, 'families': 10, 'walk': 9, 'mile': 9, 'shoes': 9, 'sign': 9, 'great': 9, 'rohingya': 8, 'day': 8, 'world': 8, 'one': 8, 'lives': 8, 'would': 8, 'many': 8, 'kids': 8, 'free': 8, '2017': 8, 'boat': 8, '16': 8, 'status': 8, 'please': 7, 'awareness': 7, 'may': 7, 'w': 7, 'see': 7, 'welcome': 7, 'user': 7, 'community': 7, 'first': 7, 'woman': 7, 'old': 7, '17': 7, 'every': 6, 'take': 6, 'supporting': 6, 'eu': 6, 'news': 6, 'war': 6, 'students': 6, 'like': 6, 'proud': 6, '2': 6, 'want': 6, 'pregnant': 6, 'school': 6, 'disaster': 6, 'provide': 6, 'military': 6, 'home': 6, 'back': 6, 'well': 5, 'calais': 5, 'helping': 5, 'think': 5, 'system': 5, 'uk': 5, 'turkey': 5, 'without': 5, 'trying': 5, 'greece': 5, '1': 5, 'make': 5, 'smartphone': 5, 'lets': 5, 'friend': 5, 'young': 5, '4': 5, 'social': 5, 'bitten': 5, 'rats': 5, 'aid': 5, 'moving': 5, 'team': 5, 'good': 5, 'find': 5, 'stop': 5, 'deadly': 5, 'still': 5, 'meet': 5, 'emergency': 5, 'years': 5, 'god': 5, 'beaten': 5, 'gt': 5, 'kidney': 5, 'evening': 4, 'donate': 4, 'abused': 4, 'year-old': 4, 'gay': 4, 'run': 4, 'shares': 4, 'given': 4, 'say': 4, 'humanitarian': 4, 'must': 4, 'un': 4, 'greek': 4, 'year': 4, 'age': 4, 'resettlement': 4, 'campaign': 4, 'found': 4, 'sending': 4, 'screening': 4, 'living': 4, 'save': 4, 'stories': 4, 'opening': 4, 'ticket': 4, 'lebanon': 4, 'solutions': 4, 'talking': 4, 'come': 4, 'two': 4, 'job': 4, 'survives': 4, 'kills': 4, 'thousands': 4, 'u': 4, 'says': 4, 'gets': 4, 'book': 4, 'last': 4, 'fleeing': 4, 'coming': 4, 'immigrant': 4, 'innocent': 4, 'southsudan': 4, 'part': 4, 'path': 4, 'kony': 4, 'airforce': 4, 'germany': 4, 'even': 4, 'mohammed': 4, 'seeking': 4, 'aiding': 4, 'iraq': 4, 'football': 4, 'love': 4, 'global': 4, 'jobs': 4, 'seen': 4, 'heartbreaking': 4, 'scholarships': 4, 'since': 3, 'another': 3, 'tonight': 3, 'actual': 3, 'watch': 3, 'ever': 3, 'government': 3, 'said': 3, 'keep': 3, 'focus': 3, 'raped': 3, '23': 3, 'bangladesh': 3, 'p': 3, 'protection': 3, 'htt': 3, 'action': 3, 'learn': 3, 'immigration': 3, 'yet': 3, 'red': 3, 'worst': 3, 'integration': 3, 'agency': 3, 'homes': 3, 'allows': 3, 'group': 3, 'volunteer': 3, 'true': 3, 'swap': 3, 'care': 3, 'returns': 3, 'fled': 3, 'persecution': 3, 'dreams': 3, 'homeland': 3, 'treated': 3, 'city': 3, 'give': 3, 'film': 3, 'plight': 3, 'real': 3, 'lovely': 3, 'racist': 3, 'wish': 3, 'week': 3, 'sponsorship': 3, 'ban': 3, 'hard': 3, 'tomorrow': 3, 'going': 3, 'tying': 3, 'smugglers': 3, 'artist': 3, 'lived': 3, 'learned': 3, 'poem': 3, 'becoming': 3, 'psychological': 3, 'left': 3, 'end': 3, 'invited': 3, 'healthy': 3, 'kitchens': 3, 'never': 3, 'einstein': 3, 'literally': 3, 'friends': 3, 'change': 3, 'looking': 3, 'piece': 3, 'ted': 3, 'ppl': 3, 'behind': 3, 'united': 3, 'could': 3, 'made': 3, 'thank': 3, 'issue': 3, 'nusnc': 3, 'selling': 3, 'sport': 3, 'ali': 3, 'unaccompanied': 2, 'continue': 2, 'lgbt': 2, 'survive': 2, 'morning': 2, 'evil': 2, 'countries': 2, 'imho': 2, 'nepal': 2, 'sat': 2, '6th': 2, 'saving': 2, 'amazing': 2, 'two-tier': 2, 'put': 2, 'faith': 2, 'reason': 2, 'visits': 2, 'refuge': 2, 'survivors': 2, 'working': 2, 'health': 2, 'country': 2, 'urge': 2, 'federal': 2, 'gov': 2, 'unjustly': 2, 'deported': 2, 'romarefugees': 2, 'anything': 2, 'afraid': 2, 'restart': 2, 'jesus': 2, 'white': 2, 'wait': 2, 'calgary': 2, 'trump': 2, 'brexit': 2, 'uganda': 2, 'sudan': 2, 'settlement': 2, 'strategy': 2, '24': 2, 'flee': 2, 'nothing': 2, 'gtinnovative': 2, 'vr': 2, 'problems': 2, 'center': 2, 'open': 2, 'easy': 2, 'making': 2, 'always': 2, 'understand': 2, 'journey': 2, 'escape': 2, 'guy': 2, 'tanzania': 2, 'nduta': 2, '40': 2, 'malaria': 2, 'patients': 2, 'five': 2, 'endmalaria': 2, 'employment': 2, 'tern': 2, 'entrepreneurs': 2, 'york': 2, 'holocaust': 2, 'musical': 2, 'poor': 2, 'nations': 2, 'shirlington': 2, 'salam': 2, 'neighbor': 2, 'syrians': 2, 'destitute': 2, 'g3': 2, 'vittadini': 2, 'dying': 2, 'attack': 2, 'press': 2, 'history': 2, 'wars': 2, 'star': 2, 'staff': 2, 'bull': 2, 'ceo': 2, '7': 2, 'starting': 2, 'attend': 2, 'threat': 2, 'click': 2, 'know': 2, 'planet': 2, 'displaced': 2, '20': 2, 'gala': 2, 'music': 2, 'saturday': 2, 'mother': 2, 'son': 2, 'tools': 2, 'problem': 2, 'parents': 2, 'iraqi': 2, 'canada': 2, 'island': 2, 'paula': 2, 'schwarz': 2, 'politicians': 2, 'together': 2, 'private': 2, 'iniatives': 2, 'creative': 2, 'ask': 2, 'common': 2, 'sense': 2, 'decency': 2, 'compassion': 2, 'programs': 2, '23000': 2, 'ice': 2, 'cream': 2, 'umbc': 2, 'create': 2, 'sundae': 2, 'supp': 2, 'experience': 2, 'turned': 2, 'groups': 2, 'technology': 2, 'schools': 2, 'use': 2, 'among': 2, 'petition': 2, '4refugees': 2, 'playing': 2, 'water': 2, 'sprayed': 2, 'austrian': 2, 'firefighters': 2, 'cool': 2, 'scorching': 2, 'soccer': 2, 'peace': 2, 'sports': 2, 'program': 2, 'dream': 2, 'teacher': 2, 'teaching': 2, '8': 2, 'girl': 2, 'survived': 2, 'interesting': 2, 'long-term': 2, 'focused': 2, 'creation': 2, 'address': 2, 'evidence': 2, 'undermines': 2, 'rescue': 2, 'ends': 2, 'victims': 2, 'launch': 2, 'legal': 2, 'somali': 2, 'independent': 2, 'f': 2, 'rings': 2, 'pain': 2, 'olive': 2, 'trees': 2, 'pb': 2, 'dvpit': 2, 'detained': 2, 'k': 2, 'released': 2, 'damage': 2, 'devastating': 2, 'sharing': 2, 'ambassador': 2, 'moment': 2, 'critical': 2, 'move': 2, 'period': 2, 'britain': 2, 'risk': 2, 'homelessness': 2, 'destitution': 2, 'due': 2, 'shortage': 2, 'sanctuary': 2, 'jordan': 2, 'poignant': 2, 'got': 2, 'right': 2, 'dawit': 2, 'gebremichael': 2, 'habte': 2, 'eritrea': 2, 'return': 2, 'board': 2, 'human': 2, 'albert': 2, 'aspiring': 2, 'ethnostate': 2, 'politically': 2, 'left-wing': 2, 'money': 2, 'dead': 2, 'tree': 2, 'youth': 2, 'inspiring': 2, 'urges': 2, 'go': 2, 'wanted': 2, 'everyone': 2, 'daily': 2, 'crime': 2, 'australia': 2, 'humanity': 2, 'charitytuesday': 2, 'powerful': 2, 'dont': 2, 'affect': 2, 'night': 2, 'stock': 2, 'handful': 2, 'german': 2, 'discusses': 2, 'impact': 2, 'intervention': 2, 'fs': 2, 'econ': 2, 'outcomes': 2, 'live': 2, 'process': 2, '100andchange': 2, 'welcomed': 2, 'delivered': 2, '1000': 2, 'idek': 2, 'someone': 2, 'joke': 2, 'college': 2, 'weekend': 2, 'rsa': 2, 'empathy': 2, '3': 2, 'egypt-ian': 2, 'ngo': 2, 'getting': 2, 'syria-n': 2, 'classroom': 2, 'death': 2, 'mediterranean': 2, 'collar': 2, 'scholarship': 2, 'future': 2, 'everton': 2, 'next': 2, 'projects': 2, '20000': 2, 'christians': 2, 'yazidis': 2, 'minorities': 2, 'front': 2, 'lines': 2, 'fighting': 2, 'isis': 2, '2/2': 2, 'london': 2, 'birmingham': 2, 'manchester': 2, 'everyday': 2, 'withrefugees': 2, 'project': 2, 'donations': 2, 'everything': 2, 'ways': 2, 'connect': 2, 'immigrants': 2, 'father': 2, 'daughter': 2, 'store': 2, 'states': 2, 'success': 2, 'saved': 2, 'st': 2, 'april': 2, 'inclusion': 2, 'innovation': 2, 'south': 2, 'asia': 2, 'huge': 2, 'educate': 2, 'blames': 2, 'weve': 2, 'caricature': 2, 'beyond': 2, 'recognition': 2, 'name': 2, 'nusconference': 2, 'teenager': 2, 'awful': 2, 'bbcnews': 2, 'organs': 2, 'safe': 2, 'sold': 2, 'pay': 2, 'ensuring': 2, '4ud': 2, 'brunel': 2, 'sanitary': 2, 'products': 2, 'full': 2, '2raise': 2, 'pro': 2, 'cured': 2, 'cancer': 2, 'idea': 2, 'heart': 2, 'pray': 2, 'send': 2, 'safety': 2, 'southern': 2, 'border': 2, 'solved': 2, 'long': 2, 'humanely': 2, 'troops': 2, 'painting': 2, 'wall': 2, '5b': 2, 'longer': 2, 'needs': 2, 'diverted': 2, 'purposes': 2, 'stupid': 2, 'tariffs': 2, 'starbucks': 1, 'hired': 1, '10000': 1, 'vets': 1, '2014': 1, 'progr': 1, 'arrested': 1, 'food': 1, 'distribution': 1, 'deadline': 1, 'shout': 1, 'raise': 1, 'causes': 1, 'contact': 1, 'thrive': 1, 'approach': 1, 'responding': 1, 'crises': 1, 'repeat': 1, 'video': 1, 'ungrateful': 1, 'ass': 1, 'skipping': 1, 'class': 1, 'takin': 1, 'disabled': 1, 'actually': 1, 'fucks': 1, 'receiving': 1, 'list': 1, 'betts': 1, 'ampp': 1, 'collier': 1, 'fix': 1, 'worlds': 1, '700': 1, '430': 1, 'grace': 1, 'mps': 1, 'condemn': 1, 'felt': 1, 'position': 1, 'peston': 1, 'germanyangela': 1, 'merkel': 1, 'shows': 1, 'gratitude': 1, 'citizens': 1, 'descendent': 1, 'armeniangenocide': 1, 'turkish': 1, 'sierra': 1, 'leone': 1, 'improve': 1, 'services': 1, 'decrease': 1, 'maternal': 1, 'mortality': 1, 'cant': 1, 'achieve': 1, 'effort': 1, 'offer': 1, 'spring': 1, 'beer': 1, 'hymns': 1, 'sunday': 1, '730pm': 1, 'relief': 1, 'hotspots': 1, 'italy': 1, 'adequate': 1, 'auditors': 1, 'euractiv': 1, 'bible': 1, 'flashjesus': 1, 'arrives': 1, 'year-long': 1, 'khan': 1, 'globalism': 1, 'inclusive': 1, 'nativist': 1, 'alike': 1, 'traveled': 1, 'largest': 1, 'hel': 1, 'jump': 1, 'past': 1, 'line': 1, 'genocide': 1, 'wwii': 1, 'yeah': 1, 'holding': 1, 'breath': 1, 'finds': 1, 'retweeted': 1, 'minute': 1, 'forced': 1, 'something': 1, 'origami': 1, 'shape': 1, 'exile': 1, 'tech': 1, 'socialgood': 1, 'feyli': 1, 'kurd': 1, 'describing': 1, 'helpless': 1, 'situation': 1, 'feylis': 1, '1998': 1, 'teenage': 1, 'rap': 1, 'homsies': 1, 'produce': 1, 'album': 1, 'scotts': 1, 'three': 1, 'boys': 1, '1922': 1, 'anyone': 1, 'tryna': 1, 'development': 1, 'summer': 1, 'apps': 1, 'hours': 1, 'difference': 1, 'signed': 1, 'become': 1, 'monthly': 1, 'donors': 1, 'mapping': 1, 'lesson': 1, 'curriculum': 1, 'edchat': 1, 'ht': 1, 'cousin': 1, 'release': 1, 'tax': 1, 'sadly': 1, 'lost': 1, 'yesterday': 1, 'tried': 1, 'resuscitate': 1, '45': 1, 'mins': 1, 'severely': 1, 'malnourishe': 1, 'mahatmamurdercase': 1, '18': 1, 'madan': 1, 'pakistan': 1, 'came': 1, 'india': 1, '1947': 1, 'ikea': 1, 'aims': 1, '200000': 1, 'poverty': 1, 'massive': 1, 'sustainability': 1, 'drive': 1, 'houston': 1, 'nation': 1, 'mentoring': 1, 'leadin': 1, 'olympian': 1, 'zamzam': 1, 'marathon': 1, 'added': 1, 'crowdfund': 1, 'personal': 1, 'study': 1, 'instances': 1, 'french': 1, 'police': 1, 'using': 1, 'tasers': 1, 'minors': 1, 'electric': 1, 'shocks': 1, 'rep': 1, 'demand': 1, 'deal': 1, 'accept': 1, 'millions': 1, 'leaving': 1, 'according': 1, 'br': 1, 'distributor': 1, 'label': 1, 'ivanka': 1, 'merch': 1, 'adrienne': 1, 'founde': 1, 'armenian': 1, 'show': 1, 'resist': 1, 'british': 1, 'sweden': 1, 'napoleonic': 1, 'debating': 1, 'exclusive': 1, 'culture': 1, 'seemingly': 1, 'pointless': 1, 'spoke': 1, 'samaritan': 1, 'activists': 1, 'launching': 1, 'westminster': 1, 'dietrich': 1, 'mateschitz': 1, 'net': 1, 'worth': 1, '14': 1, 'billion': 1, 'trump-supporting': 1, 'join': 1, 'voices': 1, 'power': 1, 'benefit': 1, '4th': 1, 'rescuers': 1, 'befullyinformed': 1, 'shipment': 1, 'instruments': 1, 'djibouti': 1, 'early': 1, '113': 1, 'asylum-seeker': 1, 'internally': 1, 'date': 1, 'june': 1, 'milwaukee': 1, 'celebration': 1, 'pere': 1, 'marquette': 1, 'park': 1, '900': 1, 'n': 1, 'plankinton': 1, 'dinner': 1, 'held': 1, '13': 1, 'dresden': 1, 'place': 1, 'general': 1, 'category': 1, 'olmo': 1, 'calvo': 1, 'taken': 1, 'makeshift': 1, 'digital': 1, 'offline': 1, 'paul': 1, 'assyrian': 1, 'urmia': 1, '1915': 1, 'becomes': 1, 'anglican': 1, 'priest': 1, 'anglicannews': 1, 'horrified': 1, 'organ': 1, 'trafficking': 1, 'terrible': 1, 'exploitation': 1, 'utter': 1, 'desperation': 1, 'gone': 1, 'unconstitutional': 1, 'judge': 1, 'festival': 1, 'scotland': 1, 'media': 1, 'awards': 1, 'entries': 1, 'nominations': 1, 'actor': 1, 'hollywoodstar': 1, 'supporter': 1, 'danger': 1, 'shed': 1, 'light': 1, 'malaysia': 1, 'impeachtrump': 1, 'mar-a-lago': 1, 'fertilized': 1, 'eggs': 1, 'pretending': 1, 'concerns': 1, 'lakewood': 1, 'tolerate': 1, 'welcomes': 1, 'supports': 1, 'minority': 1, 'virathindu': 1, 'bjp': 1, 'upcm': 1, 'yogiadityanath': 1, 'expulsion': 1, 'ethnic': 1, 'germans': 1, 'poland': 1, 'czechoslovakia': 1, 'second': 1, 'cloud': 1, 'concrete': 1, 'way': 1, 'business': 1, 'incubators': 1, 'facilitate': 1, 'entrepreneurship': 1, 'refugeeswel': 1, 'attempted': 1, 'crossing': 1, 'lesbos': 1, 'msw': 1, '521': 1, 'advocates': 1, 'spreading': 1, 'movement': 1, 'furfriends': 1, 'adopt': 1, 'pet': 1, 'ado': 1, 'horrific': 1, 'levels': 1, 'abuse': 1, 'unsafe': 1, 'warns': 1, 'female': 1, 'joined': 1, 'kiryandongo': 1, 'shared': 1, 'struggle': 1, 'reach': 1, 'europe': 1, 'real-time': 1, 'whatsapp': 1, 'va': 1, 'palestinian': 1, 'mission': 1, 'ethical': 1, 'cambodia': 1, 'solving': 1, 'require': 1, 'american': 1, 'leadership': 1, 'refugeestories': 1, 'protecting': 1, 'violence': 1, 'gbv': 1, 'gisela': 1, 'wurm': 1, 'eng': 1, 'debate': 1, 'cares': 1, 'academy': 1, 'dropped': 1, 'palestine': 1, 'across': 1, 'struggling': 1, '95': 1, 'relying': 1, 'exactly': 1, 'conflict': 1, 'ensuing': 1, 'nk': 1, 'sk': 1, 'filming': 1, 'charity': 1, 'crowdfunding': 1, '16th': 1, 'raised': 1, 'canceling': 1, 'trip': 1, 'dyi': 1, 'least': 1, 'killed': 1, '47': 1, 'migrants': 1, 'collect': 1, 'rainwater': 1, 'heavy': 1, 'rain': 1, 'fall': 1, 'temporary': 1, 'myanmar': 1, 'grade': 1, '100': 1, 'days': 1, 'accounts': 1, 'especially': 1, 'indefensible': 1, 'inexcusable': 1, 'hugely': 1, 'damaging': 1, 'muslimwriters': 1, 'hosting': 1, 'lunch': 1, 'powerfu': 1, 'recognized': 1, 'homeless': 1, 'managed': 1, 'efficiently': 1, 'trumpracistnation': 1, 'harassing': 1, 'cities': 1, 'insult': 1, 'asked': 1, 'china-funded': 1, '12000': 1, 'wfp': 1, 'bbc': 1, 'co-edited': 1, 'important': 1, 'novel': 1, 'nptch': 1, 'wk': 1, 'heartfelt': 1, 'exploration': 1, 'means': 1, 'bravo': 1, 'home-grown': 1, 'killers': 1, 'case': 1, 'grateful': 1, 'meant': 1, 'lost-after': 1, 'desperately': 1, 'luckily': 1, 'surviv': 1, 'cookforsyria': 1, 'increase': 1, 'businesses': 1, 'rising': 1, 'involved': 1, 'bless': 1, 'doct': 1, 'rumble': 1, 'jumble': 1, 'raising': 1, 'appeal': 1, 'treasure': 1, 'horrible': 1, 'forest': 1, 'tied': 1, 'cables': 1, 'yr': 1, 'thugs': 1, 'honouring': 1, 'letter': 1, 'convention': 1, 'spirit': 1, 'sometimes': 1, 'head': 1, 'maurice': 1, 'wren': 1, 'encounter': 1, 'janeswalkyyc': 1, 'tomb': 1, 'yousif': 1, 'qasmiyeh': 1, 'latest': 1, 'hosts': 1, 'dolloado': 1, 'y4o2017': 1, 'manage': 1, 'biz': 1, 'visited': 1, 'baqa': 1, 'lending': 1, 'teach': 1, 'l': 1, 'malala': 1, 'yousafzai': 1, 'donald': 1, 'visit': 1, 'energy': 1, 'drink': 1, 'turn': 1, 'zombies': 1, 'izombie': 1, 'basically': 1, 'kits': 1, 'detention': 1, 'nauru': 1, 'play': 1, 'almost': 1, 'noth': 1, 'asylum': 1, 'detainees': 1, 'th': 1, 'offers': 1, 'insight': 1, 'confuse': 1, 'invitation': 1, 'necessity': 1, 'deserve': 1, 'webinar': 1, 'matters': 1, 'strategies': 1, 'integrating': 1, 'c4c': 1, 'sophie': 1, 'documents': 1, 'architecture': 1, 'design': 1, 'architects': 1, 'interiordesign': 1, 'refugee-made': 1, 'backpacks': 1, 'sinks': 1, 'drown': 1, 'wonderful': 1, 'illustrations': 1, 'voice': 1, 'speak': 1, 'issues': 1, 'society': 1, 'ynetnews': 1, 'authorities': 1, 'covering': 1, 'neo-nazi': 1, 'involvement': 1, 'murder': 1, 'teachers': 1, 'mobile': 1, 'phones': 1, 'fundraiser': 1, 'consider': 1, 'buy': 1, 'event': 1, 'wednesday': 1, 'art': 1, 'poetry': 1, '700pm': 1, 'fulton': 1, '135': 1, 'overview': 1, '1/4': 1, 'recommends': 1, 'ccgs': 1, 'medics': 1, 'nhs': 1, 'ampdocuments': 1, 'likely': 1, 'review': 1, 'boy': 1, 'compassionate': 1, 'relevant': 1, 'gift': 1, 'response': 1, 'fund': 1, 'tripadvisor': 1, 'charitable': 1, 'foundation': 1, 'match': 1, '125000': 1, 'wooly': 1, 'jumper': 1, 'warm': 1, 'miles': 1, 'documentary': 1, 'ship': 1, 'captain': 1, 'swept': 1, 'middle': 1, 'eastern': 1, 'wins': 1, 'administration': 1, 'arguing': 1, 'stricter': 1, 'current': 1, 'takes': 1, '~': 1, 'yrs': 1, 'let': 1, 'foreign': 1, 'agent': 1, 'bring': 1, 'sstxirc': 1, 'tbt': 1, '6': 1, 'months': 1, 'ago': 1, 'beautiful': 1, 'indianapolis': 1, 'champs': 1, 'elysee': 1, 'za': 1, 'atari': 1, 'r4r': 1, 'programme': 1, 'books': 1, 'cam': 1, 'jewish': 1, 'nazi': 1, 'historically': 1, 'black': 1, 'holocaustremembranceday': 1, 'pearl': 1, 'taught': 1, 'noticed': 1, 'outer': 1, 'space': 1, 'yup': 1, 'mp': 1, 'shut': 1, 'door': 1, 'removed': 1, 'america': 1, 'setting': 1, 'apartment': 1, 'game': 1, 'thrones': 1, 'speaks': 1, 'reflects': 1, '30th': 1, 'anniversary': 1, 'senator': 1, 'meeting': 1, 'remembering': 1, 'earlier': 1, 'risked': 1, 'low': 1, 'comprehend': 1, 'charities': 1, 'accused': 1, 'colluding': 1, 'processcute': 1, 'govnorlol': 1, 'shaharzad': 1, 'hassan': 1, 'documented': 1, 'womensart': 1, 'man': 1, 'istanbul': 1, 'tells': 1, 'hears': 1, 'fighter': 1, 'jets': 1, 'runs': 1, 'jacob': 1, 'million': 1, 'dollars': 1, 'contract': 1, 'club': 1, 'outlining': 1, 'grow': 1, 'org': 1, 'company': 1, 'promotes': 1, 'language': 1, 'courses': 1, 'cultural': 1, 'experiences': 1, 'brazil': 1, 'eliza': 1, 'cornwell': 1, 'samuel': 1, 'reed': 1, 'win': 1, 'davis': 1, 'prize': 1, 'sesame': 1, 'street': 1, 'soon': 1, 'bringing': 1, 'educational': 1, 'programming': 1, 'colombia': 1, 'cook': 1, 'ing': 1, 'mom': 1, 'owns': 1, 'busy': 1, 'restaurant': 1, 'bogot': 1, 'lifetime': 1, 'alert': 1, 'practice': 1, 'manager': 1, 'vi': 1, 'better': 1, 'northern': 1, 'david': 1, 'science': 1, 'initiative': 1, 'scientists': 1, 'researchers': 1, 'suitable': 1, 'msca': 1, '50': 1, 'primary': 1, 'ensure': 1, 'educatio': 1, 'graders': 1, 'produced': 1, 'instructional': 1, 'videos': 1, 'letthemlead': 1, 'wonder': 1, 'lot': 1, 'terrified': 1, 'scares': 1, 'delighted': 1, 'contribute': 1, 'leedsbeckett': 1, 'nice': 1, 'diverse': 1, 'partnership': 1, 'google': 1, 'surprises': 1, '5': 1, 'exciting': 1, 'hear': 1, 'wadem': 1, 'vigilantes': 1, 'conviction': 1, 'beating': 1, 'wage': 1, 'blue': 1, 'workers': 1, 'might': 1, 'sea-tac': 1, 'metro': 1, 'etc': 1, 'met': 1, 'underground': 1, 'much': 1, 'roles': 1, 'liverpool': 1, 'comms': 1, 'role': 1, '250000': 1, 'initiated': 1, 'chaired': 1, 'inquiry': 1, 'published': 1, 'hateful': 1, 'george': 1, 'ironic': 1, 'emblem': 1, 'far-right': 1, 'england': 1, 'pathway': 1, 'unnecessary': 1, 'terrorist': 1, 'created': 1, 'website': 1, 'israelis': 1, 'teen': 1, 'shipwreck': 1, 'babys': 1, 'smile': 1, 'juggle': 1, 'openvisconf': 1, 'vis': 1, 'example': 1, 'dropping': 1, 'nonp': 1, 'currently': 1, 'italian': 1, 'centers': 1, 'ger': 1, '262': 1, 'friday': 1, '28th': 1, 'dress': 1, 'casual': 1, 'mary': 1, 'parish': 1, 'homeroom': 1, 'haj': 1, 'khalaf': 1, 'neglected': 1, 'ignored': 1, '12': 1, 'hunger': 1, 'strike': 1, 'prayers': 1, 'chechnya': 1, 'russia': 1, 'lame': 1, 'policy': 1, 'arabic-speaking': 1, 'english': 1, 'tutor': 1, 'toronto': 1, 'paid': 1, 'opp': 1, 'drowned': 1, 'sea': 1, 'far': 1, 'subhanaallah': 1, 'cfpspecial': 1, 'amendment': 1, 'threatens': 1, 'exclude': 1, 'sa': 1, 'usa': 1, 'narau': 1, 'extensive': 1, 'medi': 1, 'born': 1, 'kenya': 1, 'ill': 1, 'hardening': 1, 'european': 1, 'policies': 1, 'apart': 1, 'cfp': 1, 'special': 1, 'honorary': 1, 'chair': 1, 'kosovo': 1, 'amb': 1, 'timely': 1, 'fight': 1, 'extremism': 1, 'repeatedly': 1, 'state': 1, 'thing': 1, 'childr': 1, 'discuss': 1, 'fearful': 1, 'knew': 1, 'happen': 1, 'nevertrump': 1, 'numbers': 1, 'tear': 1, 'eye': 1, 'adnan': 1, 'apartheid': 1, 'biggest': 1, 'promises': 1, 'mex': 1, 'xenophobic': 1, 'guate': 1, 'el': 1, 'salv': 1, '80s': 1, 'denyi': 1, 'resorting': 1, 'schild': 1, 'remembers': 1, 'horrors': 1, 'electrocuted': 1, 'scarred': 1, 'rescued': 1, 'fc': 1, 'tale': 1, 'worldholocaustremembranceday': 1, 'discrimination': 1, 'curse': 1, 'humans': 1, 'sells': 1, 'trader': 1, 'kind': 1, 'accepting': 1, 'bursary': 1, 'increases': 1, 'brand': 1, 'union': 1, 'record': 1, 'delivering': 1, 'weareallrohingyanow': 1, '17yr': 1, 'kidneyto': 1, 'debts': 1, 'feed': 1, 'indeed': 1, 'fabric': 1, 'complexities': 1, 'happier': 1, 'supportcause': 1, 'excellent': 1, 'calling': 1, 'look': 1, 'travelling': 1, 'abroad': 1, 'barely': 1, 'panel': 1, 'mentalhealth': 1, 'nusn': 1, 'incredibly': 1, 'asb': 1, 'builds': 1, 'igloos': 1, 'jackets': 1, 'continues': 1, 'judged': 1, 'harshly': 1, 'earth': 1, 'sweet': 1, 'hereafter': 1, 'reaffirmed': 1, 'commitment': 1, 'watching': 1, 'depressing': 1, 'item': 1, 'sell': 1, 'sosad': 1, 'saddest': 1, 'lad': 1, 'basics': 1, 'fo': 1, 'bosniaherzegovina': 1, 'annex': 1, 'rhp': 1, 'whilst': 1, 'torn': 1, 'forget': 1, 'brothers': 1, 'sisters': 1, 'thi': 1, 'remote': 1, 'solution': 1, 'unemployment': 1, 'remotework': 1, 'showing': 1, 'gain': 1, 'entry': 1, 'talked': 1, 'local': 1, 'munich-based': 1, 'lgbtq': 1, 'tired': 1, 'rn': 1, 'time': 1, 'share': 1, 'israel': 1, '70': 1, 'fetus': 1, '29th': 1, 'advance': 1, 'tickets': 1, 'amnestyinternational': 1, 'oxfam': 1, 'simulating': 1, 'struggles': 1, 'threatening': 1, 'kill': 1, 'mass': 1, 'killing': 1, '21st': 1, 'century': 1, 'driving': 1, 'migrantsdo': 1, 'qualify': 1, 'refu': 1, 'yes': 1, 'carrying': 1, 'hate': 1, 'reporting': 1, 'centre': 1, 'done': 1, 'sabb': 1, 'lord': 1, 'whose': 1, 'wjg': 1, 'texas': 1, 'reminder': 1, 'register': 1, 'advocacy': 1, '10th': 1, 'greateras': 1, 'contains': 1, 'concept': 1, 'judgement': 1, 'hatred': 1, 'resisthate': 1, 'unbearable': 1, 'prioritised': 1, 'moved': 1, 'dubsnow': 1, 'person': 1, 'teeth': 1, 'tested': 1, 'forwar': 1, 'bravery': 1, 'eus': 1, 'treatment': 1, 'lone': 1, 'shameful': 1, 'aspects': 1, 'motivationmonday': 1, 'frump': 1, 'probably': 1, 'gitmo': 1, 'turnbull': 1, 'dutton': 1, 'ck': 1, 'neurobiologist': 1, 'arrived': 1, 'switzerland': 1, 'somalia': 1, 'helps': 1, 'fulfill': 1, 'egypt': 1, 'yay': 1, 'gonna': 1, 'get': 1, 'sent': 1, 'murdered.great': 1, 'prisondent': 1, 'trump.https': 1, 't.co/xkgqgxdywb': 1, 'elie': 1, 'shadi': 1, 'best': 1, 'wolverton': 1, 'plans': 1, 'establish': 1, 'emerging': 1, 'declare': 1, \"god's\": 1, 'stage': 1, 'ministry': 1, 'growing': 1, '9': 1, 'loss': 1, '💔': 1, 'endbullying': 1, 'called': 1, 'mexican': 1, 'regardless': 1, '…': 1}\n"
          ]
        }
      ]
    },
    {
      "cell_type": "code",
      "metadata": {
        "colab": {
          "base_uri": "https://localhost:8080/"
        },
        "id": "HmeF-BpncIhW",
        "outputId": "4b621aae-0240-465c-afd4-d33ca5e4bf31"
      },
      "source": [
        "# display the first 10 anti hashtags\n",
        "anti_hashtags = []\n",
        "\n",
        "for tweet in anti_tweets:\n",
        "  if len(tweet.hashtags) > 0: \n",
        "    anti_hashtags.append(tweet.hashtags)\n",
        "  if len(anti_hashtags) == 10:\n",
        "    break\n",
        "anti_hashtags"
      ],
      "execution_count": null,
      "outputs": [
        {
          "output_type": "execute_result",
          "data": {
            "text/plain": [
              "[['#tcot'],\n",
              " ['#worldpenguinday'],\n",
              " ['#refugees'],\n",
              " ['#refugee', '#travelban'],\n",
              " ['#tuesdaymotivation'],\n",
              " ['#stephaniedavis'],\n",
              " ['#aid4yemen'],\n",
              " ['#flynn'],\n",
              " ['#worldp'],\n",
              " ['#worldpenguinday']]"
            ]
          },
          "metadata": {},
          "execution_count": 20
        }
      ]
    },
    {
      "cell_type": "markdown",
      "metadata": {
        "id": "DmIlE-E0hAKo"
      },
      "source": [
        "**Question:** Can mentions (tags - '@') be used to classify tweets? Give 5 examples of mentions that can classify pro or anti tweets. "
      ]
    },
    {
      "cell_type": "code",
      "metadata": {
        "id": "IYPCycwPcFWN"
      },
      "source": [
        "# display the first 10 pro mentions\n",
        "\n",
        "pro_mentions = []\n",
        "\n",
        "\n",
        "for tweet in pro_tweets:\n",
        "  if len(tweet.mentions) > 0:\n",
        "    pro_mentions.append(tweet.mentions)\n",
        "  if len(pro_mentions) == 100:\n",
        "    break\n",
        "\n",
        "\n",
        "pro_mentions"
      ],
      "execution_count": null,
      "outputs": []
    },
    {
      "cell_type": "code",
      "metadata": {
        "id": "4-wgBwSPcSWu"
      },
      "source": [
        "# display the first 10 anti mentions\n",
        "anti_mentions = []\n",
        "\n",
        "\n",
        "for tweet in anti_tweets:\n",
        "  if len(tweet.mentions) > 0:\n",
        "    anti_mentions.append(tweet.mentions)\n",
        "  if len(anti_mentions) == 10:\n",
        "    break\n",
        "\n",
        "\n",
        "anti_mentions\n",
        "\n"
      ],
      "execution_count": null,
      "outputs": []
    },
    {
      "cell_type": "markdown",
      "metadata": {
        "id": "FUzq0MNehEAr"
      },
      "source": [
        "**Question:** You think any other words from a tweet can be used to classify pro or anti refugee sentiment? Give 5 examples of words that can classify pro or anti tweets. "
      ]
    },
    {
      "cell_type": "code",
      "metadata": {
        "id": "mDZWlT4mcF9e",
        "colab": {
          "base_uri": "https://localhost:8080/"
        },
        "outputId": "a07b04b0-febb-4f4d-ea71-b08bd651406a"
      },
      "source": [
        "# display words in the first 10 pro tweets\n",
        "pro_words = []\n",
        "\n",
        "for tweet in pro_tweets:\n",
        "  tokens = [t for t in tweet.tokenList if t not in stopwords.words('english')]\n",
        "  pro_words.append(tokens)\n",
        "  if len(pro_words) == 10:\n",
        "      break  \n",
        "      \n",
        "pro_words"
      ],
      "execution_count": null,
      "outputs": [
        {
          "output_type": "execute_result",
          "data": {
            "text/plain": [
              "[['rt',\n",
              "  'starbucks',\n",
              "  'hired',\n",
              "  '10000',\n",
              "  'vets',\n",
              "  'since',\n",
              "  '2014',\n",
              "  'well',\n",
              "  'refugee',\n",
              "  'progr'],\n",
              " ['rt',\n",
              "  'another',\n",
              "  'unaccompanied',\n",
              "  'refugee',\n",
              "  'child',\n",
              "  'arrested',\n",
              "  'calais',\n",
              "  'tonight',\n",
              "  'evening',\n",
              "  'food',\n",
              "  'distribution'],\n",
              " ['rt',\n",
              "  'actual',\n",
              "  'deadline',\n",
              "  'please',\n",
              "  'continue',\n",
              "  'shout',\n",
              "  'raise',\n",
              "  'awareness',\n",
              "  'donate',\n",
              "  'lgbt',\n",
              "  'refugee',\n",
              "  'causes',\n",
              "  'contact'],\n",
              " ['rt',\n",
              "  'helping',\n",
              "  'refugees',\n",
              "  'thrive',\n",
              "  'survive',\n",
              "  'new',\n",
              "  'approach',\n",
              "  'responding',\n",
              "  'refugee',\n",
              "  'crises'],\n",
              " ['rt',\n",
              "  'repeat',\n",
              "  'need',\n",
              "  'watch',\n",
              "  'video',\n",
              "  'every',\n",
              "  'morning',\n",
              "  'ungrateful',\n",
              "  'ass',\n",
              "  'ever',\n",
              "  'think',\n",
              "  'skipping',\n",
              "  'class',\n",
              "  'amp',\n",
              "  'takin'],\n",
              " ['government',\n",
              "  'said',\n",
              "  'take',\n",
              "  'disabled',\n",
              "  'refugee',\n",
              "  'children',\n",
              "  'people',\n",
              "  'actually',\n",
              "  'think',\n",
              "  'keep',\n",
              "  'evil',\n",
              "  'fucks'],\n",
              " ['focus',\n",
              "  'receiving',\n",
              "  'countries',\n",
              "  'imho',\n",
              "  'list',\n",
              "  'betts',\n",
              "  'ampp',\n",
              "  'collier',\n",
              "  'fix',\n",
              "  'worlds',\n",
              "  'refugee',\n",
              "  'system'],\n",
              " ['walk', 'mile', 'rohingya', 'refugee', 'shoes', 'new', 'app'],\n",
              " ['rt',\n",
              "  'raped',\n",
              "  'abused',\n",
              "  '23',\n",
              "  'year-old',\n",
              "  'gay',\n",
              "  'refugee',\n",
              "  'bangladesh',\n",
              "  'run',\n",
              "  'nepal',\n",
              "  'shares',\n",
              "  'story'],\n",
              " ['women',\n",
              "  'refugee',\n",
              "  'day',\n",
              "  'sat',\n",
              "  'may',\n",
              "  '6th',\n",
              "  '700',\n",
              "  '430',\n",
              "  'p',\n",
              "  'women',\n",
              "  'saving',\n",
              "  'grace',\n",
              "  'given',\n",
              "  'amazing']]"
            ]
          },
          "metadata": {},
          "execution_count": 23
        }
      ]
    },
    {
      "cell_type": "code",
      "metadata": {
        "id": "p8Kamwx6cWMY"
      },
      "source": [
        "# display words in the first 10 pro tweets\n",
        "### YOUR CODE HERE\n",
        "anti_words = []\n",
        "\n",
        "for tweet in anti_tweets:\n",
        "  tokens = [t for t in tweet.tokenList if t not in stopwords.words('english')]\n",
        "  anti_words.append(tokens)\n",
        "  if len(anti_words) == 10:\n",
        "      break  \n",
        "      \n",
        "anti_words\n",
        "### END CODE"
      ],
      "execution_count": null,
      "outputs": []
    },
    {
      "cell_type": "markdown",
      "metadata": {
        "id": "H0N-9l31dCsa"
      },
      "source": [
        "The more often a hashtag, mention, or rule comes in one category over another, the better we may expect it to work!"
      ]
    },
    {
      "cell_type": "markdown",
      "metadata": {
        "id": "Hik5gPU-paCf"
      },
      "source": [
        "\n",
        "Play around with the interactive form below to see the count of a given property (i.e. hashtag, mention, or just a word), and how often it shows up in the pro or anti refugee tweets. This may give you some indication of what specific ones might work better to categorize tweets. "
      ]
    },
    {
      "cell_type": "code",
      "metadata": {
        "colab": {
          "base_uri": "https://localhost:8080/"
        },
        "id": "kxSjaBlstM4z",
        "outputId": "99326166-0d63-42e9-930a-75bfbab9f090"
      },
      "source": [
        "#@title Query { run: \"auto\", vertical-output: true, display-mode: \"form\" }\n",
        "\n",
        "examine_tweet = Tweet_counts(tweet_data) \n",
        "\n",
        "prop = 'Word' #@param [\"Hashtags\", \"Mentions\", \"Word\"]\n",
        "string = 'Iraq' #@param {type:\"string\"}\n",
        "\n",
        "if prop=='Hashtags':\n",
        "  if string[0]!= '#': string = '#' + string\n",
        "  print(examine_tweet.query_hashtag(string.lower()))\n",
        "elif prop=='Mentions':\n",
        "  if string[0]!='@': string = '@' + string\n",
        "  print(examine_tweet.query_mentions(string.lower()))\n",
        "elif prop=='Word':\n",
        "  print(examine_tweet.query_words(string.lower()))\n",
        "\n",
        "#@markdown Mentions are tags in twitter - @blah, @realdonaldtrump. \n",
        "#@markdown <br><br>**Code result**:\n"
      ],
      "execution_count": null,
      "outputs": [
        {
          "output_type": "stream",
          "name": "stdout",
          "text": [
            "{'pro': 4, 'anti': 1}\n"
          ]
        }
      ]
    },
    {
      "cell_type": "markdown",
      "metadata": {
        "id": "T0jyeCCMftrU"
      },
      "source": [
        "**When you're happy with your lists, discuss with your instructor, then write your hashtags, mentions, and words in the lists below. These will be the lists you'll be using today to classify the tweets as anti or pro refugee!**"
      ]
    },
    {
      "cell_type": "code",
      "metadata": {
        "id": "HKKb1XBB0Oa-"
      },
      "source": [
        "pro_hashtags = ['#rap','#immigration']\n",
        "anti_hashtags = ['#buildthewall','#']\n",
        "pro_mentions = ['@refugeecouncil','@independent','@appgrefugees']\n",
        "anti_mentions = ['@potus','@100percfedup']\n",
        "pro_words = ['welcome','life','save','syrian','children','help','family','story','new','support','camp','camps','Iraq']\n",
        "anti_words = ['american','flag','muslim','rape','labor','country','islam','illegal','illegals','terrorists','leave','USA']"
      ],
      "execution_count": null,
      "outputs": []
    },
    {
      "cell_type": "markdown",
      "metadata": {
        "id": "hfEeHRZJxLMY"
      },
      "source": [
        "# Milestone 3: Coding up our classifiers"
      ]
    },
    {
      "cell_type": "markdown",
      "metadata": {
        "id": "qdkvmmHOlIRG"
      },
      "source": [
        "### Exercise (Coding)"
      ]
    },
    {
      "cell_type": "markdown",
      "metadata": {
        "id": "uYOtdLcZjlkg"
      },
      "source": [
        "We have three types of information that we get from tweets: hashtags, mentions, and the actual text. As we saw, we can build lists of words that we think indicate something is a pro or anti tweet. Each list gives us a single classifier. For example, a pro hashtag classifier will see if a tweet has hashtags in our `pro_hashtags` and, if it does, it decides that the tweet is `pro refugee`. In this way, we can also build 5 classifiers other classifiers for each of our lists. Each classifier is a decision on the feature information that we care about (i.e. hashtags, mentions, or text), and which category we care to find (pro or anti). \n",
        "\n",
        "Let us build a classifier based on anti-refugee features.\n"
      ]
    },
    {
      "cell_type": "code",
      "metadata": {
        "id": "AZxobQsLI8Wc"
      },
      "source": [
        "def anti_classifier(tweet):\n",
        "  for hashtag in tweet.hashtags:\n",
        "    if hashtag in anti_hashtags:\n",
        "      return True # for pro\n",
        "  for mention in tweet.mentions:\n",
        "    if mention in anti_mentions:\n",
        "      return True # for pro\n",
        "  for word in tweet.tokenList:\n",
        "    if word in anti_words:\n",
        "      return True # for pro    \n",
        "  return False # if none of the hastags, mentions, or words are in our anti lists, then the tweet does not express anti-refugee sentiment"
      ],
      "execution_count": null,
      "outputs": []
    },
    {
      "cell_type": "markdown",
      "metadata": {
        "id": "C3s5SIL9rCG_"
      },
      "source": [
        "Once we have made our rule based classifier, we can make predictions!"
      ]
    },
    {
      "cell_type": "code",
      "metadata": {
        "colab": {
          "base_uri": "https://localhost:8080/"
        },
        "id": "1P8J5eoUqfCd",
        "outputId": "244958d3-0b14-4156-cf03-fa5f9ef2455e"
      },
      "source": [
        "# first, make our predictions\n",
        "predicted = []\n",
        "for tweet in tweet_data:\n",
        "  predicted.append(anti_classifier(tweet))\n",
        "print(predicted)\n"
      ],
      "execution_count": null,
      "outputs": [
        {
          "output_type": "stream",
          "name": "stdout",
          "text": [
            "[True, True, True, False, True, True, True, True, False, False, False, False, False, True, False, False, False, False, False, False, True, True, True, False, True, True, True, True, True, True, True, False, False, True, False, False, False, False, True, False, True, False, False, False, False, False, False, False, True, False, True, True, False, False, True, False, False, False, True, True, True, False, True, True, True, True, True, False, False, False, True, False, True, False, False, False, False, True, False, False, False, False, False, True, False, False, False, True, False, True, False, False, False, True, True, True, False, True, False, False, False, False, True, True, True, False, False, False, False, False, False, True, False, False, True, False, True, False, False, True, True, True, False, True, False, True, False, True, False, True, False, False, True, False, True, False, False, False, False, True, False, True, True, False, True, False, True, False, False, False, False, False, False, False, False, False, True, False, False, True, False, True, True, False, False, False, True, False, False, True, True, False, False, False, False, True, False, False, False, True, False, False, True, False, True, False, False, True, False, False, False, False, False, False, True, False, True, False, False, True, False, False, False, False, False, True, True, False, False, False, True, False, True, False, False, False, True, True, False, False, False, False, False, False, True, False, False, False, False, False, False, False, False, True, False, False, False, False, False, True, True, False, False, True, False, False, False, True, False, False, False, False, False, True, True, False, False, False, True, False, False, False, False, False, False, False, True, False, True, True, False, False, False, False, False, False, True, False, False, False, False, True, False, False, False, False, False, False, False, False, True, False, False, False, False, True, False, False, False, False, False, False, False, False, False, False, True, True, True, True, True, False, False, False, False, False, True, False, False, False, False, False, False, False, True, True, True, False, False, True, False, False, True, False, False, True, False, False, False, False, False, False, False, False, False, False, False, False, False, False, False, False, False, True, False, False, False, False, False, False, False, False, False, False, False, False, False, False, False, False, False, False, False, False, False, False, False, False, False, False, False, False, False, False, False, False, False, False, False, False, False, False, False, False, False, False, False, False, False, False, False, False, False, False, False, False, False, False, False, False, False, False, False, False, False, False, False, False, False, False, False, False, False, False, False, False, False, False, False, False, False, False, False, False, False, False, False, False, False, False, False, False, False, False, False, False, False, False, False, True, False, False, False, False, False, False, False, False, False, False, False, False, False, False, False, False, False, False, False, False, False, True, False, False, False, False, False, False, False, False, False, False, False, False, False, False, False, False, False, False, False, False, False, False, False, False, False, False, False, False, False, False, False, False, False, False, False, False, False, False, False, False, False, False, False, False, False, False, False, False, False, False, False, False, False, False, False, False, False, False, False, False, False, False, False, False, False, False, False, False, False, False, False, False, False, False, False, False, False, False, False, False, False, False, False, False, False, False, False, False, False, False, False, False, False, False, False, False, False, False, False, False, False, False, False, False, False, False, False, False, False, False, False, False, False, False, False, False, False, False, False, False, False, False, False, False, False, False, False, False, False, False, False, False, False, False, False, False, False, False, False, False, False, False, False, False, False, False, False, False, False, False, False, False, False, False, False, True, False, False, False, False, False, False, False, False, False, False, False, False, False, False, False, False, False, False, False, False, False, False, False, False, False, False, False, False, False, False, False, False, False, False, False, False, False, False, False, False, False, False, False, False, False, False, False, False, False, False, True, False, False, False, False, False, False, False, False, False, False]\n"
          ]
        }
      ]
    },
    {
      "cell_type": "markdown",
      "metadata": {
        "id": "vj788HFdTcUA"
      },
      "source": [
        "We need to compare our rule-based classifier's predictions with the real data. Since the `classification` value in the original data was a string, we need a helper function to convert those to Boolean values that we can use to compare to our predictions."
      ]
    },
    {
      "cell_type": "code",
      "metadata": {
        "id": "W0sIPXevPVxR"
      },
      "source": [
        "# helper func to convert string \"TRUE\" or \"FALSE\" to boolean values\n",
        "def make_boolean(s):\n",
        "  if s.lower() == \"false\":\n",
        "    return False\n",
        "  if s.lower() == \"true\":\n",
        "    return True\n",
        "  \n",
        "# make the test data  \n",
        "correct = [make_boolean(i['classification']) for i in data]"
      ],
      "execution_count": null,
      "outputs": []
    },
    {
      "cell_type": "markdown",
      "metadata": {
        "id": "0jmas0o9JsRi"
      },
      "source": [
        "**Get this classifier's accuracy below!**"
      ]
    },
    {
      "cell_type": "code",
      "metadata": {
        "colab": {
          "base_uri": "https://localhost:8080/"
        },
        "id": "Vi5DpC1ZJnHq",
        "outputId": "8a4c789d-efe8-47e6-d542-eda2212ac5de"
      },
      "source": [
        "\n",
        "accuracy_score(correct,predicted)"
      ],
      "execution_count": null,
      "outputs": [
        {
          "output_type": "execute_result",
          "data": {
            "text/plain": [
              "0.660377358490566"
            ]
          },
          "metadata": {},
          "execution_count": 27
        }
      ]
    },
    {
      "cell_type": "markdown",
      "metadata": {
        "id": "Quk-0sJ8KTvK"
      },
      "source": [
        "**Now try building a pro-classifier to only select for pro-refugee tweets! Then, test its accuracy.**"
      ]
    },
    {
      "cell_type": "code",
      "metadata": {
        "id": "WcQcEhavKeL3",
        "colab": {
          "base_uri": "https://localhost:8080/"
        },
        "outputId": "41b11720-462b-42fc-f3cf-6c4368f38a6d"
      },
      "source": [
        "### YOUR CODE HERE\n",
        "def pro_classifier(tweet):\n",
        "  for hashtag in tweet.hashtags:\n",
        "    if hashtag in pro_hashtags:\n",
        "      return False # for anti\n",
        "  for mention in tweet.mentions:\n",
        "    if mention in pro_mentions:\n",
        "      return False # for anti\n",
        "  for word in tweet.tokenList:\n",
        "    if word in pro_words:\n",
        "      return False # for anti   \n",
        "  return True # if none of the hastags, mentions, or words are in our anti lists, then the tweet does not express pro-refugee sentiment\n",
        "\n",
        "predicted = []\n",
        "for tweet in tweet_data:\n",
        "  predicted.append(pro_classifier(tweet))\n",
        "print(predicted)\n",
        "\n",
        "def make_boolean(s):\n",
        "  if s.lower() == \"false\":\n",
        "    return False\n",
        "  if s.lower() == \"true\":\n",
        "    return True\n",
        "correct = [make_boolean(i['classification']) for i in data]\n",
        "accuracy_score(correct,predicted)\n",
        "### END CODE"
      ],
      "execution_count": null,
      "outputs": [
        {
          "output_type": "stream",
          "name": "stdout",
          "text": [
            "[True, True, True, True, True, True, True, True, True, True, True, True, True, True, True, False, False, True, True, True, True, True, True, True, True, True, True, True, True, True, True, True, False, True, True, True, True, False, True, True, False, False, False, True, False, True, True, True, True, True, True, True, False, True, True, True, True, True, True, True, True, True, True, True, True, True, True, True, True, True, True, True, True, True, True, True, True, True, True, True, True, True, True, True, True, True, True, True, True, True, True, True, True, True, True, True, True, True, True, True, True, True, True, True, False, True, True, True, True, True, True, True, True, True, True, False, True, False, True, True, True, True, True, True, True, False, True, True, True, True, True, True, True, True, True, True, True, True, True, True, True, True, True, True, True, True, True, True, False, True, True, True, False, False, False, True, True, True, True, True, False, True, True, True, True, True, True, True, True, True, True, True, False, True, True, True, True, True, True, True, True, True, True, True, True, True, True, True, True, True, True, True, True, True, True, True, True, True, True, True, True, True, True, True, True, True, True, True, True, True, True, True, True, True, True, True, True, True, True, True, True, False, True, True, True, True, False, True, True, True, True, True, True, True, True, True, True, True, True, True, True, True, True, True, True, True, True, True, True, True, True, True, True, True, True, False, True, True, True, True, True, True, True, True, True, True, True, True, True, True, True, True, True, True, False, True, True, True, True, True, True, True, True, True, True, True, True, True, True, True, True, True, True, True, True, True, True, True, True, True, True, True, False, True, True, True, True, True, True, True, True, False, True, True, False, True, True, True, True, False, True, False, True, True, True, False, True, True, True, True, True, True, True, True, False, True, True, True, True, True, True, True, False, True, False, True, False, False, True, True, True, False, False, True, False, True, True, False, True, True, False, True, False, True, True, False, True, False, True, True, False, True, True, False, False, False, False, False, False, True, True, False, False, False, False, False, False, False, False, False, True, False, True, True, False, True, True, False, False, False, True, True, False, True, False, False, True, False, True, False, False, False, False, True, False, True, True, False, True, True, False, True, False, True, False, True, True, False, True, True, True, True, True, True, False, True, False, True, True, False, False, False, True, False, False, True, True, False, True, False, True, False, True, True, True, True, True, False, False, False, False, True, True, True, False, False, True, True, True, False, False, True, False, False, True, False, True, True, False, True, False, False, False, True, True, False, True, False, True, True, False, True, False, True, False, False, False, False, True, False, False, False, False, False, True, False, False, False, True, True, False, False, True, False, True, False, True, False, True, False, False, True, True, False, True, True, True, True, True, True, True, True, True, False, False, False, True, True, True, False, False, False, False, True, True, False, False, True, False, True, True, True, False, False, True, False, False, True, False, False, False, False, False, False, True, False, False, False, False, False, False, False, True, False, False, False, True, True, True, False, False, True, False, False, True, True, False, True, True, False, True, False, True, True, True, True, False, False, False, False, False, False, False, False, False, False, True, False, False, True, True, False, False, True, True, False, False, True, False, False, True, False, False, True, True, False, False, True, True, False, True, True, True, True, False, False, False, False, False, False, False, True, True, False, True, True, True, False, True, False, False, False, False, True, True, True, False, True, False, True, False, True, True, True, True, True, True, True, True, True, False, True, False, False, True, False, True, True, True, False, False, True, True, False, False, True, True, True, True]\n"
          ]
        },
        {
          "output_type": "execute_result",
          "data": {
            "text/plain": [
              "0.7155297532656023"
            ]
          },
          "metadata": {},
          "execution_count": 30
        }
      ]
    }
  ]
}